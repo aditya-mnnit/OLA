{
 "cells": [
  {
   "cell_type": "code",
   "execution_count": 1,
   "metadata": {},
   "outputs": [
    {
     "name": "stdout",
     "output_type": "stream",
     "text": [
      "Recommendations for Ola Cabs:\n",
      "1. Implement stricter driver cancellation policies and offer incentives for drivers to complete accepted rides.\n",
      "2. Enhance customer care training and set clear resolution metrics to address service-related issues promptly.\n",
      "3. Develop a platform-specific engagement strategy (e.g., quickly respond to Twitter complaints, use Instagram for brand building).\n",
      "Cleaned data saved to 'ola_cleaned.csv'.\n"
     ]
    }
   ],
   "source": [
    "# Replace 'ola.json' with your actual file path if needed\n",
    "# Data handling\n",
    "import json\n",
    "import pandas as pd\n",
    "import numpy as np\n",
    "\n",
    "# Data visualization\n",
    "import matplotlib.pyplot as plt\n",
    "import seaborn as sns\n",
    "\n",
    "# Sentiment analysis (TextBlob)\n",
    "# !pip install textblob --quiet  # run this only once in a notebook cell to install\n",
    "from textblob import TextBlob\n",
    "\n",
    "# For handling the mode calculation\n",
    "from statistics import mode\n",
    "\n",
    "# (Optional) to suppress warnings in a notebook\n",
    "import warnings\n",
    "warnings.filterwarnings('ignore')\n",
    "file_path = 'ola.json'\n",
    "with open(file_path, 'r', encoding='utf-8') as f:\n",
    "    data = json.load(f)\n",
    "\n",
    "# Convert to DataFrame\n",
    "df = pd.DataFrame(data)\n",
    "recommendations = [\n",
    "    \"1. Implement stricter driver cancellation policies and offer incentives for drivers to complete accepted rides.\",\n",
    "    \"2. Enhance customer care training and set clear resolution metrics to address service-related issues promptly.\",\n",
    "    \"3. Develop a platform-specific engagement strategy (e.g., quickly respond to Twitter complaints, use Instagram for brand building).\"\n",
    "]\n",
    "\n",
    "print(\"Recommendations for Ola Cabs:\")\n",
    "for rec in recommendations:\n",
    "    print(rec)\n",
    "df.to_csv('ola_cleaned.csv', index=False)\n",
    "print(\"Cleaned data saved to 'ola_cleaned.csv'.\")"
   ]
  }
 ],
 "metadata": {
  "kernelspec": {
   "display_name": "Python 3",
   "language": "python",
   "name": "python3"
  },
  "language_info": {
   "codemirror_mode": {
    "name": "ipython",
    "version": 3
   },
   "file_extension": ".py",
   "mimetype": "text/x-python",
   "name": "python",
   "nbconvert_exporter": "python",
   "pygments_lexer": "ipython3",
   "version": "3.10.2"
  }
 },
 "nbformat": 4,
 "nbformat_minor": 2
}
